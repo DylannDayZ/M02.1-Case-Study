{
 "cells": [
  {
   "cell_type": "markdown",
   "id": "8699a27d",
   "metadata": {},
   "source": [
    "# # M02 - Lab Case Study: if... else and while statements\n",
    "\n",
    "Christopher Brigham\n",
    "Python Introduction\n",
    "\n",
    "\n",
    "This code should accept student names and GPA averages and test if the student qualifies for Dean's list or Honor's roll.\n"
   ]
  },
  {
   "cell_type": "code",
   "execution_count": null,
   "id": "dcaf9c4c",
   "metadata": {},
   "outputs": [
    {
     "name": "stdout",
     "output_type": "stream",
     "text": [
      "What is the student's Last name? : br\n",
      "What is the student's First name? : chi\n",
      "What is the student's GPA? : 3.4\n",
      "brchiis on the honor's Role. \n",
      "What is the student's Last name? : cs\n",
      "What is the student's First name? : d2\n"
     ]
    }
   ],
   "source": [
    "#Christopher Brigham\n",
    "#DMBS110\n",
    "#Application \n",
    "LastName = \" \"\n",
    "FirstName = \" \"\n",
    "GPA = float\n",
    "\n",
    "while True:\n",
    "    LastName = input(\"What is the student's Last name? : \")\n",
    "    if LastName == \"ZZZ\":\n",
    "        break\n",
    "    \n",
    "    FirstName = input(\"What is the student's First name? : \")\n",
    "    GPA = float(input(\"What is the student's GPA? : \"))\n",
    "    \n",
    "    if GPA >= 3.5:\n",
    "        print(LastName + FirstName + \"is on the Dean's List.\")\n",
    "    elif GPA >= 3.25:\n",
    "        print(LastName + FirstName + \"is on the honor's Role. \")\n",
    "    else:\n",
    "        print(LastName + FirstName + \"isn't qualified.\")"
   ]
  },
  {
   "cell_type": "code",
   "execution_count": null,
   "id": "6798257c",
   "metadata": {},
   "outputs": [],
   "source": []
  }
 ],
 "metadata": {
  "kernelspec": {
   "display_name": "Python 3 (ipykernel)",
   "language": "python",
   "name": "python3"
  },
  "language_info": {
   "codemirror_mode": {
    "name": "ipython",
    "version": 3
   },
   "file_extension": ".py",
   "mimetype": "text/x-python",
   "name": "python",
   "nbconvert_exporter": "python",
   "pygments_lexer": "ipython3",
   "version": "3.11.5"
  }
 },
 "nbformat": 4,
 "nbformat_minor": 5
}
